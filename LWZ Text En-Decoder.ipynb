{
  "nbformat": 4,
  "nbformat_minor": 0,
  "metadata": {
    "colab": {
      "provenance": []
    },
    "kernelspec": {
      "name": "python3",
      "display_name": "Python 3"
    },
    "language_info": {
      "name": "python"
    }
  },
  "cells": [
    {
      "cell_type": "code",
      "source": [
        "#@title Cài đặt thư viện\n",
        "from IPython.display import clear_output\n",
        "\n",
        "!pip install gradio --quiet\n",
        "clear_output()\n",
        "import gradio as gr\n",
        "print(gr.__version__)"
      ],
      "metadata": {
        "colab": {
          "base_uri": "https://localhost:8080/"
        },
        "id": "CeSMCKpS9Usw",
        "outputId": "4c0081ba-72b5-4e1a-c80f-b6f13f9742cc",
        "cellView": "form"
      },
      "execution_count": null,
      "outputs": [
        {
          "output_type": "stream",
          "name": "stdout",
          "text": [
            "3.36.1\n"
          ]
        }
      ]
    },
    {
      "cell_type": "markdown",
      "source": [
        "#Encode"
      ],
      "metadata": {
        "id": "cfZ0IsXlTW9E"
      }
    },
    {
      "cell_type": "code",
      "source": [
        "#@title Encode code chay chạy ngon\n",
        "#DONT RUN\n",
        "#encode\n",
        "text=\"bbb \"#nhớ cộng kí tự rác vào cuối\n",
        "\n",
        "dic=[]\n",
        "dic_size=0\n",
        "s=text[0]\n",
        "index=0\n",
        "\n",
        "output=[]\n",
        "\n",
        "while index < len(text)-1:\n",
        "  c = text[index+1]\n",
        "  if s+c in dic:\n",
        "    s=s+c\n",
        "    index=index+1\n",
        "  else:\n",
        "    output.append(s)\n",
        "    dic.append(s+c)\n",
        "    dic_size+=1\n",
        "    index+=1\n",
        "    s=c\n",
        "\n",
        "result=''\n",
        "for out in output:\n",
        "  encode = str(ord(out)) if len(out)==1 else str(dic.index(out)+256)\n",
        "  result = result + encode + ' '\n",
        "\n",
        "print(dic[:-1])\n",
        "print(output)\n",
        "print(result)\n"
      ],
      "metadata": {
        "colab": {
          "base_uri": "https://localhost:8080/"
        },
        "id": "gnN1gcAsbdGM",
        "outputId": "fec23850-9f84-4ec7-f480-1fe2e1c5205e"
      },
      "execution_count": null,
      "outputs": [
        {
          "output_type": "stream",
          "name": "stdout",
          "text": [
            "['bb']\n",
            "['b', 'bb']\n",
            "98 256 \n"
          ]
        }
      ]
    },
    {
      "cell_type": "code",
      "source": [
        "#@title Encode UI chạy ngon\n",
        "#RUN\n",
        "#CFCFCFCCFCCFC\n",
        "import pandas as pd\n",
        "\n",
        "def greet(input):\n",
        "  input+=' '\n",
        "  dic=[]\n",
        "  dic_size=0\n",
        "  s=input[0]\n",
        "  index=0\n",
        "\n",
        "  code_word=[]\n",
        "\n",
        "  output=[]\n",
        "\n",
        "  while index < len(input)-1:\n",
        "    c = input[index+1]\n",
        "    if s+c in dic:\n",
        "      s=s+c\n",
        "      index=index+1\n",
        "    else:\n",
        "      output.append(s)\n",
        "      dic.append(s+c)\n",
        "      dic_size+=1\n",
        "      index+=1\n",
        "      s=c\n",
        "\n",
        "  for i in range(dic_size):\n",
        "    code_word.append(256+i)\n",
        "\n",
        "  code_word[len(code_word)-1]=''\n",
        "  dic[len(dic)-1]=''\n",
        "\n",
        "\n",
        "  df = pd.DataFrame({'Output':output,'Code Word':code_word, 'String':dic})\n",
        "\n",
        "  result=''\n",
        "  for out in output:\n",
        "    encode = str(ord(out)) if len(out)==1 else str(dic.index(out)+256)\n",
        "    result = result + encode + ' '\n",
        "  return df,result\n",
        "\n",
        "demo = gr.Interface(\n",
        "    fn=greet,\n",
        "    inputs=\"text\",\n",
        "    outputs=['numpy','text'],\n",
        "    title='Encode'\n",
        "    )\n",
        "\n",
        "if __name__==\"__main__\":\n",
        "  demo.launch()"
      ],
      "metadata": {
        "colab": {
          "base_uri": "https://localhost:8080/",
          "height": 616
        },
        "id": "rx_t5-Y5qWws",
        "outputId": "e34ddeee-7d2b-4627-cc35-3321603dfd7f",
        "cellView": "form"
      },
      "execution_count": null,
      "outputs": [
        {
          "output_type": "stream",
          "name": "stdout",
          "text": [
            "Colab notebook detected. To show errors in colab notebook, set debug=True in launch()\n",
            "Note: opening Chrome Inspector may crash demo inside Colab notebooks.\n",
            "\n",
            "To create a public link, set `share=True` in `launch()`.\n"
          ]
        },
        {
          "output_type": "display_data",
          "data": {
            "text/plain": [
              "<IPython.core.display.Javascript object>"
            ],
            "application/javascript": [
              "(async (port, path, width, height, cache, element) => {\n",
              "                        if (!google.colab.kernel.accessAllowed && !cache) {\n",
              "                            return;\n",
              "                        }\n",
              "                        element.appendChild(document.createTextNode(''));\n",
              "                        const url = await google.colab.kernel.proxyPort(port, {cache});\n",
              "\n",
              "                        const external_link = document.createElement('div');\n",
              "                        external_link.innerHTML = `\n",
              "                            <div style=\"font-family: monospace; margin-bottom: 0.5rem\">\n",
              "                                Running on <a href=${new URL(path, url).toString()} target=\"_blank\">\n",
              "                                    https://localhost:${port}${path}\n",
              "                                </a>\n",
              "                            </div>\n",
              "                        `;\n",
              "                        element.appendChild(external_link);\n",
              "\n",
              "                        const iframe = document.createElement('iframe');\n",
              "                        iframe.src = new URL(path, url).toString();\n",
              "                        iframe.height = height;\n",
              "                        iframe.allow = \"autoplay; camera; microphone; clipboard-read; clipboard-write;\"\n",
              "                        iframe.width = width;\n",
              "                        iframe.style.border = 0;\n",
              "                        element.appendChild(iframe);\n",
              "                    })(7894, \"/\", \"100%\", 500, false, window.element)"
            ]
          },
          "metadata": {}
        }
      ]
    },
    {
      "cell_type": "markdown",
      "source": [
        "#Decode"
      ],
      "metadata": {
        "id": "o-O77NsZTTml"
      }
    },
    {
      "cell_type": "code",
      "source": [
        "#@title Decode code chay chạy ngon\n",
        "#DONT RUN\n",
        "text ='67 70 256 258 259 257'\n",
        "decode=text.split(' ')\n",
        "decode = [int(x) for x in decode]\n",
        "\n",
        "code_word=[]\n",
        "dic=[]\n",
        "cw=256\n",
        "output=[chr(decode[0])]\n",
        "s=chr(decode[0])\n",
        "\n",
        "for i in range (1,len(decode)):\n",
        "  if decode[i]<256 or decode[i] in code_word:\n",
        "    entry = chr(decode[i]) if decode[i]<256 else str(dic[code_word.index(decode[i])])\n",
        "  else:\n",
        "    entry = entry + entry[0]\n",
        "  output.append(entry)\n",
        "  dic.append(s+entry[0])\n",
        "  code_word.append(cw)\n",
        "  cw+=1\n",
        "  s=entry\n",
        "\n",
        "output=''.join(output)\n",
        "\n",
        "print(code_word)\n",
        "print(dic)\n",
        "print(output)"
      ],
      "metadata": {
        "id": "W1Tglr6g0AbX",
        "colab": {
          "base_uri": "https://localhost:8080/"
        },
        "outputId": "123c71dd-5e59-4659-bb34-075bd0b5729a"
      },
      "execution_count": null,
      "outputs": [
        {
          "output_type": "stream",
          "name": "stdout",
          "text": [
            "[256, 257, 258, 259, 260]\n",
            "['CF', 'FC', 'CFC', 'CFCC', 'CFCCF']\n",
            "CFCFCFCCFCCFC\n"
          ]
        }
      ]
    },
    {
      "cell_type": "code",
      "source": [
        "#@title Decode UI chạy ngon\n",
        "#RUN\n",
        "#decode\n",
        "import pandas as pd\n",
        "\n",
        "def decode(text):\n",
        "  decode=text.split(' ')\n",
        "  decode = [int(x) for x in decode]\n",
        "\n",
        "  code_word=[]\n",
        "  dic=[]\n",
        "  cw=256\n",
        "  output=[chr(decode[0])]\n",
        "  s=chr(decode[0])\n",
        "\n",
        "  for i in range (1,len(decode)):\n",
        "    if decode[i]<256 or decode[i] in code_word:\n",
        "      entry = chr(decode[i]) if decode[i]<256 else str(dic[code_word.index(decode[i])])\n",
        "    else:\n",
        "      entry = entry + entry[0]\n",
        "    output.append(entry)\n",
        "    dic.append(s+entry[0])\n",
        "    code_word.append(cw)\n",
        "    cw+=1\n",
        "    s=entry\n",
        "\n",
        "  dic.insert(0,'')\n",
        "  code_word.insert(0,'')\n",
        "  df=pd.DataFrame({\"Output\":output,\"Dictionary\":dic,\"Code Word\":code_word})\n",
        "\n",
        "  # output=''.join(output)\n",
        "  result=''.join(output)\n",
        "  return df,result\n",
        "\n",
        "demo = gr.Interface(\n",
        "    fn=decode,\n",
        "    inputs=\"text\",\n",
        "    outputs=[\"numpy\",\"text\"],\n",
        "    description='bruh bruh bruh'\n",
        "    )\n",
        "\n",
        "if __name__==\"__main__\":\n",
        "  demo.launch()"
      ],
      "metadata": {
        "colab": {
          "base_uri": "https://localhost:8080/",
          "height": 616
        },
        "id": "a8da4KII4qCD",
        "outputId": "92ccc76a-2b4a-4090-f9c0-6951248bfc2f",
        "cellView": "form"
      },
      "execution_count": null,
      "outputs": [
        {
          "output_type": "stream",
          "name": "stdout",
          "text": [
            "Colab notebook detected. To show errors in colab notebook, set debug=True in launch()\n",
            "Note: opening Chrome Inspector may crash demo inside Colab notebooks.\n",
            "\n",
            "To create a public link, set `share=True` in `launch()`.\n"
          ]
        },
        {
          "output_type": "display_data",
          "data": {
            "text/plain": [
              "<IPython.core.display.Javascript object>"
            ],
            "application/javascript": [
              "(async (port, path, width, height, cache, element) => {\n",
              "                        if (!google.colab.kernel.accessAllowed && !cache) {\n",
              "                            return;\n",
              "                        }\n",
              "                        element.appendChild(document.createTextNode(''));\n",
              "                        const url = await google.colab.kernel.proxyPort(port, {cache});\n",
              "\n",
              "                        const external_link = document.createElement('div');\n",
              "                        external_link.innerHTML = `\n",
              "                            <div style=\"font-family: monospace; margin-bottom: 0.5rem\">\n",
              "                                Running on <a href=${new URL(path, url).toString()} target=\"_blank\">\n",
              "                                    https://localhost:${port}${path}\n",
              "                                </a>\n",
              "                            </div>\n",
              "                        `;\n",
              "                        element.appendChild(external_link);\n",
              "\n",
              "                        const iframe = document.createElement('iframe');\n",
              "                        iframe.src = new URL(path, url).toString();\n",
              "                        iframe.height = height;\n",
              "                        iframe.allow = \"autoplay; camera; microphone; clipboard-read; clipboard-write;\"\n",
              "                        iframe.width = width;\n",
              "                        iframe.style.border = 0;\n",
              "                        element.appendChild(iframe);\n",
              "                    })(7878, \"/\", \"100%\", 500, false, window.element)"
            ]
          },
          "metadata": {}
        }
      ]
    },
    {
      "cell_type": "markdown",
      "source": [
        "# LWZ Text En-Decoder"
      ],
      "metadata": {
        "id": "TBPthjlpzvmR"
      }
    },
    {
      "cell_type": "code",
      "source": [
        "#@title Encode fucn chạy ngon { display-mode: \"form\" }\n",
        "def encode(input):\n",
        "  input+=' '\n",
        "  dic=[]\n",
        "  dic_size=0\n",
        "  temp_string=input[0]\n",
        "  index=0\n",
        "\n",
        "  code_word=[]\n",
        "\n",
        "  output=[]\n",
        "\n",
        "  while index < len(input)-1:\n",
        "    next_char = input[index+1]\n",
        "    if temp_string + next_char in dic:\n",
        "      temp_string = temp_string + next_char\n",
        "      index+=1\n",
        "    else:\n",
        "      output.append(temp_string)\n",
        "      dic.append(temp_string+next_char)\n",
        "      dic_size+=1\n",
        "      index+=1\n",
        "      temp_string=next_char\n",
        "\n",
        "  for i in range(dic_size):\n",
        "    code_word.append(256+i)\n",
        "\n",
        "  code_word[len(code_word)-1]=''\n",
        "  dic[len(dic)-1]=''\n",
        "\n",
        "  df = pd.DataFrame({'Output':output,'Code Word':code_word, 'Dictionary':dic})\n",
        "\n",
        "  result=''\n",
        "  max_encode=0\n",
        "  for out in output:\n",
        "    encode = ord(out) if len(out)==1 else dic.index(out)+256\n",
        "    if encode>max_encode:\n",
        "      max_encode=encode\n",
        "    result = result + str(encode) + ' '\n",
        "\n",
        "  bin_before=(len(input)-1)*8\n",
        "  bin_after=len(\"{0:b}\".format(max_encode))*(len(output))\n",
        "  encode_compression_ratio=str(round((bin_before-bin_after)/bin_before*100,2))+'%'\n",
        "\n",
        "  return result,df,encode_compression_ratio"
      ],
      "metadata": {
        "id": "Anj_iEu7yoe6"
      },
      "execution_count": null,
      "outputs": []
    },
    {
      "cell_type": "code",
      "source": [
        "#@title Decode func chạy ngon { display-mode: \"form\" }\n",
        "def decode(input):\n",
        "  decode=input.split(' ')\n",
        "  decode = [int(x) for x in decode]\n",
        "\n",
        "  code_word=[]\n",
        "  dic=[]\n",
        "  cw=256\n",
        "  output=[chr(decode[0])]\n",
        "  s=chr(decode[0])\n",
        "\n",
        "  for i in range (1,len(decode)):\n",
        "    if decode[i]<256 or decode[i] in code_word:\n",
        "      entry = chr(decode[i]) if decode[i]<256 else str(dic[code_word.index(decode[i])])\n",
        "    else:\n",
        "      entry = entry + entry[0]\n",
        "    output.append(entry)\n",
        "    dic.append(s+entry[0])\n",
        "    code_word.append(cw)\n",
        "    cw+=1\n",
        "    s=entry\n",
        "\n",
        "  dic.insert(0,'')\n",
        "  code_word.insert(0,'')\n",
        "  df=pd.DataFrame({\"Output\":output,\"Code Word\":code_word,\"Dictionary\":dic})\n",
        "\n",
        "  output=''.join(output)\n",
        "  return output,df"
      ],
      "metadata": {
        "id": "HwnScrRUvRWx"
      },
      "execution_count": null,
      "outputs": []
    },
    {
      "cell_type": "code",
      "source": [
        "#@title UI chạy ngon { display-mode: \"form\" }\n",
        "import numpy as np\n",
        "import gradio as gr\n",
        "import pandas as pd\n",
        "\n",
        "with gr.Blocks() as demo:\n",
        "  gr.Markdown('<h1><center>LZW En-Decode</center></h1>')\n",
        "\n",
        "  with gr.Tab(\"Encode\"):\n",
        "    with gr.Row():\n",
        "      with gr.Column():\n",
        "        encode_text_input=gr.Textbox(label='Input')\n",
        "        encode_text_output=gr.Textbox(label='Output')\n",
        "        encode_compression_ratio=gr.Textbox(label='Hiệu suất  nén')\n",
        "      with gr.Column():\n",
        "        encode_dataframe_output=gr.Dataframe(label='Dictionary')\n",
        "        encode_button=gr.Button(\"Let's Encode\")\n",
        "    gr.Examples(examples=['CFCFCFCCFCCFC'],\n",
        "                inputs=encode_text_input,\n",
        "                outputs=[encode_text_output,encode_dataframe_output,encode_compression_ratio],\n",
        "                fn=encode,\n",
        "                cache_examples=True)\n",
        "    encode_button.click(fn=encode,\n",
        "                        inputs=encode_text_input,\n",
        "                        outputs=[encode_text_output,encode_dataframe_output,encode_compression_ratio])\n",
        "\n",
        "  with gr.Tab(\"Decode\"):\n",
        "    with gr.Row():\n",
        "      with gr.Column():\n",
        "        decode_text_input=gr.Textbox(label='Input')\n",
        "        decode_text_output=gr.Textbox(label='Output')\n",
        "      with gr.Column():\n",
        "        decode_dataframe_output=gr.Dataframe(label='Dictionary')\n",
        "        decode_button=gr.Button(\"Let's Decode\")\n",
        "    gr.Examples(examples=['67 70 256 258 259 257'],\n",
        "                inputs=decode_text_input,\n",
        "                outputs=[decode_text_output,decode_dataframe_output],\n",
        "                fn=decode,\n",
        "                cache_examples=True)\n",
        "    decode_button.click(fn=decode,\n",
        "                        inputs=decode_text_input,\n",
        "                        outputs=[decode_text_output,decode_dataframe_output])\n",
        "\n",
        "\n",
        "if __name__==\"__main__\":\n",
        "  demo.launch(share=True)"
      ],
      "metadata": {
        "colab": {
          "base_uri": "https://localhost:8080/"
        },
        "id": "AndUvd0OaDL4",
        "outputId": "9fae349e-f761-4a91-80d7-2fe9e464b53e"
      },
      "execution_count": null,
      "outputs": [
        {
          "output_type": "stream",
          "name": "stdout",
          "text": [
            "Caching examples at: '/content/gradio_cached_examples/12'\n",
            "Caching examples at: '/content/gradio_cached_examples/22'\n",
            "Colab notebook detected. To show errors in colab notebook, set debug=True in launch()\n",
            "Running on public URL: https://ce8ac4b091bf38e327.gradio.live\n",
            "\n",
            "This share link expires in 72 hours. For free permanent hosting and GPU upgrades, run `gradio deploy` from Terminal to deploy to Spaces (https://huggingface.co/spaces)\n"
          ]
        },
        {
          "output_type": "display_data",
          "data": {
            "text/plain": [
              "<IPython.core.display.HTML object>"
            ],
            "text/html": [
              "<div><iframe src=\"https://ce8ac4b091bf38e327.gradio.live\" width=\"100%\" height=\"500\" allow=\"autoplay; camera; microphone; clipboard-read; clipboard-write;\" frameborder=\"0\" allowfullscreen></iframe></div>"
            ]
          },
          "metadata": {}
        }
      ]
    }
  ]
}